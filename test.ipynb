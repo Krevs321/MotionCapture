{
 "cells": [
  {
   "cell_type": "code",
   "execution_count": 9,
   "metadata": {},
   "outputs": [],
   "source": [
    "import cv2\n",
    "import mediapipe as mp\n",
    "import matplotlib.pyplot as plt\n",
    "import numpy as np"
   ]
  },
  {
   "cell_type": "code",
   "execution_count": 10,
   "metadata": {},
   "outputs": [],
   "source": [
    "mp_pose = mp.solutions.pose\n",
    " \n",
    "pose_image = mp_pose.Pose(static_image_mode=True, \n",
    "                          min_detection_confidence=0.5)\n",
    " \n",
    "pose_video = mp_pose.Pose(static_image_mode=False, \n",
    "                          min_detection_confidence=0.7,\n",
    "                          min_tracking_confidence=0.7)\n",
    " \n",
    "mp_drawing = mp.solutions.drawing_utils\n",
    "\n",
    "pose = mp_pose.Pose()"
   ]
  },
  {
   "cell_type": "code",
   "execution_count": 11,
   "metadata": {},
   "outputs": [],
   "source": [
    "def detectPose(image_pose, pose, draw=False):\n",
    "    original_image = image_pose.copy()\n",
    "    image_in_RGB = cv2.cvtColor(image_pose, cv2.COLOR_BGR2RGB)\n",
    "    resultant = pose.process(image_in_RGB)\n",
    "    if resultant.pose_landmarks and draw:    \n",
    "        mp_drawing.draw_landmarks(image=original_image, \n",
    "                                  landmark_list=resultant.pose_landmarks,\n",
    "                                  connections=mp_pose.POSE_CONNECTIONS,\n",
    "                                  landmark_drawing_spec=mp_drawing.DrawingSpec(color=(255,255,255),\n",
    "                                                                               thickness=2, circle_radius=2),\n",
    "                                  connection_drawing_spec=mp_drawing.DrawingSpec(color=(49,125,237),\n",
    "                                                                               thickness=2, circle_radius=2))\n",
    "            \n",
    "    return original_image, resultant\n"
   ]
  },
  {
   "cell_type": "code",
   "execution_count": 12,
   "metadata": {},
   "outputs": [],
   "source": [
    "# PREPARING IMAGE\n",
    "image = cv2.imread(\"test_slika.jpg\")\n",
    "slika, res = detectPose(image, pose, True)\n",
    "slika = cv2.cvtColor(slika, cv2.COLOR_BGR2RGB)\n"
   ]
  },
  {
   "cell_type": "code",
   "execution_count": 15,
   "metadata": {},
   "outputs": [
    {
     "name": "stdout",
     "output_type": "stream",
     "text": [
      "{'X': 0.6119961142539978, 'Y': 0.42453041672706604, 'Z': 0.09047698974609375, 'Visibility': 0.9999719858169556}\n",
      "{'X': 0.47624024748802185, 'Y': 0.6151109337806702, 'Z': 0.012838715687394142, 'Visibility': 0.9995971322059631}\n",
      "[0.532847   0.42221259 0.12269718]\n"
     ]
    }
   ],
   "source": [
    "# PREPARING DATA - DICTIONARY WITH POINTS ON ALL AXIS\n",
    "\n",
    "points = []\n",
    "for data_point in res.pose_landmarks.landmark:\n",
    "    points.append({\n",
    "                    'X': data_point.x,\n",
    "                    'Y': data_point.y,\n",
    "                    'Z': data_point.z,\n",
    "                    'Visibility': data_point.visibility})\n",
    "\n",
    "print(points[11])\n",
    "print(points[24])\n",
    "\n",
    "spineTopX1 = points[11][\"X\"]\n",
    "spineTopY1 = points[11][\"Y\"]\n",
    "spineTopZ1 = points[11][\"Z\"]\n",
    "\n",
    "spineTopX2 = points[12][\"X\"]\n",
    "spineTopY2 = points[12][\"Y\"]\n",
    "spineTopZ2 = points[12][\"Z\"]\n",
    "\n",
    "spineBotX1 = points[23][\"X\"]\n",
    "spineBotY1 = points[23][\"Y\"]\n",
    "spineBotZ1 = points[23][\"Z\"]\n",
    "\n",
    "spineBotX2 = points[24][\"X\"]\n",
    "spineBotY2 = points[24][\"Y\"]\n",
    "spineBotZ2 = points[24][\"Z\"]\n",
    "\n",
    "vec1 = np.array([spineTopX1, spineTopY1, spineTopZ1])\n",
    "vec2 = np.array([spineTopX2, spineTopY2, spineTopZ2])\n",
    "\n",
    "vec3 = np.array([spineBotX1, spineBotY1, spineBotZ1])\n",
    "vec4 = np.array([spineBotX2, spineBotY2, spineBotZ2])\n",
    "\n",
    "spineTop = (vec1 + vec2) / 2\n",
    "spineBot = (vec3 + vec4) / 2\n",
    "\n",
    "print(spineTop)"
   ]
  },
  {
   "cell_type": "code",
   "execution_count": 6,
   "metadata": {},
   "outputs": [
    {
     "data": {
      "text/plain": [
       "<module 'mediapipe' from 'c:\\\\Users\\\\Gasper Krevs\\\\AppData\\\\Local\\\\Programs\\\\Python\\\\Python310\\\\lib\\\\site-packages\\\\mediapipe\\\\__init__.py'>"
      ]
     },
     "execution_count": 6,
     "metadata": {},
     "output_type": "execute_result"
    }
   ],
   "source": [
    "import mediapipe\n",
    "\n",
    "mediapipe"
   ]
  }
 ],
 "metadata": {
  "kernelspec": {
   "display_name": "Python 3",
   "language": "python",
   "name": "python3"
  },
  "language_info": {
   "codemirror_mode": {
    "name": "ipython",
    "version": 3
   },
   "file_extension": ".py",
   "mimetype": "text/x-python",
   "name": "python",
   "nbconvert_exporter": "python",
   "pygments_lexer": "ipython3",
   "version": "3.10.0"
  },
  "orig_nbformat": 4,
  "vscode": {
   "interpreter": {
    "hash": "03d84e4d91d83ec49b4e11fb78282f3a146fa0390deff3d2fe38aed70b25cc18"
   }
  }
 },
 "nbformat": 4,
 "nbformat_minor": 2
}
