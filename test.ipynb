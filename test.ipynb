{
 "cells": [
  {
   "cell_type": "code",
   "execution_count": 1,
   "metadata": {},
   "outputs": [],
   "source": [
    "import cv2\n",
    "import mediapipe as mp\n",
    "import matplotlib.pyplot as plt"
   ]
  },
  {
   "cell_type": "code",
   "execution_count": 2,
   "metadata": {},
   "outputs": [],
   "source": [
    "mp_pose = mp.solutions.pose\n",
    " \n",
    "pose_image = mp_pose.Pose(static_image_mode=True, \n",
    "                          min_detection_confidence=0.5)\n",
    " \n",
    "pose_video = mp_pose.Pose(static_image_mode=False, \n",
    "                          min_detection_confidence=0.7,\n",
    "                          min_tracking_confidence=0.7)\n",
    " \n",
    "mp_drawing = mp.solutions.drawing_utils\n",
    "\n",
    "pose = mp_pose.Pose()"
   ]
  },
  {
   "cell_type": "code",
   "execution_count": 3,
   "metadata": {},
   "outputs": [],
   "source": [
    "def detectPose(image_pose, pose, draw=True, display=False):\n",
    "    original_image = image_pose.copy()\n",
    "    image_in_RGB = cv2.cvtColor(image_pose, cv2.COLOR_BGR2RGB)\n",
    "    resultant = pose.process(image_in_RGB)\n",
    "    if resultant.pose_landmarks and draw:    \n",
    "        mp_drawing.draw_landmarks(image=original_image, \n",
    "                                  landmark_list=resultant.pose_landmarks,\n",
    "                                  connections=mp_pose.POSE_CONNECTIONS,\n",
    "                                  landmark_drawing_spec=mp_drawing.DrawingSpec(color=(255,255,255),\n",
    "                                                                               thickness=2, circle_radius=2),\n",
    "                                  connection_drawing_spec=mp_drawing.DrawingSpec(color=(49,125,237),\n",
    "                                                                               thickness=2, circle_radius=2))\n",
    "    if display:\n",
    "            plt.figure(figsize=[22,22])\n",
    "            plt.subplot(121);plt.imshow(image_pose[:,:,::-1])\n",
    "            plt.title(\"Input Image\",size=14)\n",
    "            plt.axis('off');\n",
    "            plt.subplot(122);plt.imshow(original_image[:,:,::-1])\n",
    "            plt.title(\"Pose detected Image\",size=14)\n",
    "            plt.axis('off');\n",
    " \n",
    "    else:        \n",
    "        return original_image, resultant\n"
   ]
  },
  {
   "cell_type": "code",
   "execution_count": 4,
   "metadata": {},
   "outputs": [],
   "source": [
    "# PREPARING DATA - DICTIONARY WITH POINTS ON ALL AXIS\n",
    "\n",
    "image = cv2.imread(\"20230123_182353.jpg\")\n",
    "slika, res = detectPose(image, pose)\n",
    "\n",
    "points_data = {}\n",
    "points_x = []\n",
    "points_y = []\n",
    "points_z = []\n",
    "points_visible = []\n",
    "\n",
    "for point in res.pose_landmarks.landmark:\n",
    "    points_x.append(point.x)\n",
    "    points_y.append(point.y)\n",
    "    points_z.append(point.z)\n",
    "    points_visible.append(point.visibility)\n",
    "\n",
    "points_data[\"x\"] = points_x\n",
    "points_data[\"y\"] = points_y\n",
    "points_data[\"z\"] = points_z\n",
    "points_data[\"visibility\"] = points_visible\n",
    "\n"
   ]
  }
 ],
 "metadata": {
  "kernelspec": {
   "display_name": "Python 3",
   "language": "python",
   "name": "python3"
  },
  "language_info": {
   "codemirror_mode": {
    "name": "ipython",
    "version": 3
   },
   "file_extension": ".py",
   "mimetype": "text/x-python",
   "name": "python",
   "nbconvert_exporter": "python",
   "pygments_lexer": "ipython3",
   "version": "3.10.0"
  },
  "orig_nbformat": 4,
  "vscode": {
   "interpreter": {
    "hash": "03d84e4d91d83ec49b4e11fb78282f3a146fa0390deff3d2fe38aed70b25cc18"
   }
  }
 },
 "nbformat": 4,
 "nbformat_minor": 2
}
